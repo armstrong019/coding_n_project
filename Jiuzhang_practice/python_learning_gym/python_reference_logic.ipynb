{
 "cells": [
  {
   "cell_type": "code",
   "execution_count": 1,
   "metadata": {},
   "outputs": [],
   "source": [
    "import pandas as pd"
   ]
  },
  {
   "cell_type": "code",
   "execution_count": 9,
   "metadata": {},
   "outputs": [],
   "source": [
    "df0 = pd.DataFrame({'a':[1,2],'b':[3,4]})"
   ]
  },
  {
   "cell_type": "code",
   "execution_count": 10,
   "metadata": {},
   "outputs": [
    {
     "data": {
      "text/plain": [
       "0"
      ]
     },
     "execution_count": 10,
     "metadata": {},
     "output_type": "execute_result"
    }
   ],
   "source": [
    "df1= pd.DataFrame({'a':[0,2],'b':[3,4]})\n",
    "df1.iloc[0][0]"
   ]
  },
  {
   "cell_type": "code",
   "execution_count": 19,
   "metadata": {},
   "outputs": [
    {
     "data": {
      "text/html": [
       "<div>\n",
       "<style scoped>\n",
       "    .dataframe tbody tr th:only-of-type {\n",
       "        vertical-align: middle;\n",
       "    }\n",
       "\n",
       "    .dataframe tbody tr th {\n",
       "        vertical-align: top;\n",
       "    }\n",
       "\n",
       "    .dataframe thead th {\n",
       "        text-align: right;\n",
       "    }\n",
       "</style>\n",
       "<table border=\"1\" class=\"dataframe\">\n",
       "  <thead>\n",
       "    <tr style=\"text-align: right;\">\n",
       "      <th></th>\n",
       "      <th>a</th>\n",
       "      <th>b</th>\n",
       "      <th>c</th>\n",
       "    </tr>\n",
       "  </thead>\n",
       "  <tbody>\n",
       "    <tr>\n",
       "      <th>0</th>\n",
       "      <td>-1</td>\n",
       "      <td>3</td>\n",
       "      <td>5</td>\n",
       "    </tr>\n",
       "    <tr>\n",
       "      <th>1</th>\n",
       "      <td>2</td>\n",
       "      <td>4</td>\n",
       "      <td>6</td>\n",
       "    </tr>\n",
       "  </tbody>\n",
       "</table>\n",
       "</div>"
      ],
      "text/plain": [
       "   a  b  c\n",
       "0 -1  3  5\n",
       "1  2  4  6"
      ]
     },
     "execution_count": 19,
     "metadata": {},
     "output_type": "execute_result"
    }
   ],
   "source": [
    "df1['c'] = [5,6]\n",
    "df1"
   ]
  },
  {
   "cell_type": "code",
   "execution_count": 12,
   "metadata": {},
   "outputs": [
    {
     "name": "stdout",
     "output_type": "stream",
     "text": [
      "   a  b\n",
      "0 -1  3\n",
      "1  2  4\n",
      "   a  b\n",
      "0 -1  3\n",
      "1  2  4\n",
      "   a  b\n",
      "0 -1  3\n",
      "1  2  4\n"
     ]
    }
   ],
   "source": [
    "\n",
    "for df in [df0, df1]:\n",
    "    df.iloc[0][0]=-1\n",
    "print(df)\n",
    "print(df0)\n",
    "print(df1)"
   ]
  },
  {
   "cell_type": "code",
   "execution_count": 20,
   "metadata": {},
   "outputs": [
    {
     "name": "stdout",
     "output_type": "stream",
     "text": [
      "   a  b  c\n",
      "0 -1  3  5\n",
      "1  2  4  6\n",
      "   a  b  c\n",
      "0 -1  3  5\n",
      "1  2  4  6\n"
     ]
    },
    {
     "name": "stderr",
     "output_type": "stream",
     "text": [
      "/Users/fangche/anaconda3/lib/python3.7/site-packages/ipykernel_launcher.py:3: SettingWithCopyWarning: \n",
      "A value is trying to be set on a copy of a slice from a DataFrame\n",
      "\n",
      "See the caveats in the documentation: http://pandas.pydata.org/pandas-docs/stable/indexing.html#indexing-view-versus-copy\n",
      "  This is separate from the ipykernel package so we can avoid doing imports until\n"
     ]
    }
   ],
   "source": [
    "def modify_df(df0, df1):\n",
    "    for df in [df0, df1]:\n",
    "        df.iloc[0][0]=-1\n",
    "        df['c'] = [5,6]\n",
    "    return df0, df1\n",
    "df01, df11 = modify_df(df0, df1)\n",
    "print(df01)\n",
    "print(df11)"
   ]
  },
  {
   "cell_type": "code",
   "execution_count": 24,
   "metadata": {},
   "outputs": [
    {
     "name": "stdout",
     "output_type": "stream",
     "text": [
      "   a  c\n",
      "0  1 -1\n",
      "1  2 -1\n",
      "   a  c\n",
      "0  5 -1\n",
      "1  6 -1\n"
     ]
    }
   ],
   "source": [
    "# one interesting example\n",
    "\n",
    "import pandas as pd\n",
    "df1 = pd.DataFrame({'a':[1,2],'b':[3,4]})\n",
    "df2 = pd.DataFrame({'a':[5,6],'b':[7,8]})\n",
    "\n",
    "def transfer_data(df1,df2):\n",
    "    for df in [df1, df2]:\n",
    "        df = apply_change(df)\n",
    "        df = feature_drop(df)\n",
    "    return df1,df2\n",
    "def apply_change(df):\n",
    "    df['c']=[-1,-1]\n",
    "    return df\n",
    "def feature_drop(df):\n",
    "    df.drop(['b'],axis=1, inplace=True)\n",
    "    # df = df.drop(['b'],axis=1)\n",
    "    return df\n",
    "\n",
    "df1_final, df2_final = transfer_data(df1, df2)\n",
    "print(df1_final)\n",
    "print(df2_final)"
   ]
  },
  {
   "cell_type": "code",
   "execution_count": 5,
   "metadata": {},
   "outputs": [
    {
     "data": {
      "text/plain": [
       "3"
      ]
     },
     "execution_count": 5,
     "metadata": {},
     "output_type": "execute_result"
    }
   ],
   "source": [
    "class example:\n",
    "    def __init__(self):\n",
    "        self.a = 10\n",
    "        self.b = 100\n",
    "    @staticmethod\n",
    "    def model_training(input1, input2):\n",
    "        return input1+input2\n",
    "    def train_model(self):\n",
    "        return example.model_training(self.a, self.b)\n",
    "ex1 = example()\n",
    "ex1.model_training(1,2)\n",
    "\n",
    "\n",
    "###  @staticmethod 的用处：\n",
    "# 他的特点是他没有access to the instance information, like regular method in a class,\n",
    "# neighther it has access to the class itself, like classmethod\n",
    "# the usage is really limited\n",
    "# when to use? the only use it to arrange part of code inside the class, since it belongs to the class.\n"
   ]
  },
  {
   "cell_type": "code",
   "execution_count": null,
   "metadata": {},
   "outputs": [],
   "source": []
  }
 ],
 "metadata": {
  "kernelspec": {
   "display_name": "Python 3",
   "language": "python",
   "name": "python3"
  },
  "language_info": {
   "codemirror_mode": {
    "name": "ipython",
    "version": 3
   },
   "file_extension": ".py",
   "mimetype": "text/x-python",
   "name": "python",
   "nbconvert_exporter": "python",
   "pygments_lexer": "ipython3",
   "version": "3.7.3"
  }
 },
 "nbformat": 4,
 "nbformat_minor": 2
}
